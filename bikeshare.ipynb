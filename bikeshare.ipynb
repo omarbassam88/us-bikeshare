{
 "metadata": {
  "language_info": {
   "codemirror_mode": {
    "name": "ipython",
    "version": 3
   },
   "file_extension": ".py",
   "mimetype": "text/x-python",
   "name": "python",
   "nbconvert_exporter": "python",
   "pygments_lexer": "ipython3",
   "version": "3.8.3-final"
  },
  "orig_nbformat": 2,
  "kernelspec": {
   "name": "python3",
   "display_name": "Python 3"
  }
 },
 "nbformat": 4,
 "nbformat_minor": 2,
 "cells": [
  {
   "cell_type": "code",
   "execution_count": 1,
   "metadata": {},
   "outputs": [],
   "source": [
    "# This notebook is just to explore the data.\n",
    "# the main application code is in the python file"
   ]
  },
  {
   "cell_type": "code",
   "execution_count": 2,
   "metadata": {},
   "outputs": [],
   "source": [
    "import pandas as pd\n",
    "import numpy as np"
   ]
  },
  {
   "cell_type": "code",
   "execution_count": 3,
   "metadata": {},
   "outputs": [],
   "source": [
    "df =pd.read_csv('chicago.csv')"
   ]
  },
  {
   "cell_type": "code",
   "execution_count": 4,
   "metadata": {},
   "outputs": [
    {
     "output_type": "execute_result",
     "data": {
      "text/plain": [
       "   Unnamed: 0           Start Time             End Time  Trip Duration  \\\n",
       "0     1423854  2017-06-23 15:09:32  2017-06-23 15:14:53            321   \n",
       "1      955915  2017-05-25 18:19:03  2017-05-25 18:45:53           1610   \n",
       "2        9031  2017-01-04 08:27:49  2017-01-04 08:34:45            416   \n",
       "3      304487  2017-03-06 13:49:38  2017-03-06 13:55:28            350   \n",
       "4       45207  2017-01-17 14:53:07  2017-01-17 15:02:01            534   \n",
       "\n",
       "                   Start Station                   End Station   User Type  \\\n",
       "0           Wood St & Hubbard St       Damen Ave & Chicago Ave  Subscriber   \n",
       "1            Theater on the Lake  Sheffield Ave & Waveland Ave  Subscriber   \n",
       "2             May St & Taylor St           Wood St & Taylor St  Subscriber   \n",
       "3  Christiana Ave & Lawrence Ave  St. Louis Ave & Balmoral Ave  Subscriber   \n",
       "4         Clark St & Randolph St  Desplaines St & Jackson Blvd  Subscriber   \n",
       "\n",
       "   Gender  Birth Year  \n",
       "0    Male      1992.0  \n",
       "1  Female      1992.0  \n",
       "2    Male      1981.0  \n",
       "3    Male      1986.0  \n",
       "4    Male      1975.0  "
      ],
      "text/html": "<div>\n<style scoped>\n    .dataframe tbody tr th:only-of-type {\n        vertical-align: middle;\n    }\n\n    .dataframe tbody tr th {\n        vertical-align: top;\n    }\n\n    .dataframe thead th {\n        text-align: right;\n    }\n</style>\n<table border=\"1\" class=\"dataframe\">\n  <thead>\n    <tr style=\"text-align: right;\">\n      <th></th>\n      <th>Unnamed: 0</th>\n      <th>Start Time</th>\n      <th>End Time</th>\n      <th>Trip Duration</th>\n      <th>Start Station</th>\n      <th>End Station</th>\n      <th>User Type</th>\n      <th>Gender</th>\n      <th>Birth Year</th>\n    </tr>\n  </thead>\n  <tbody>\n    <tr>\n      <th>0</th>\n      <td>1423854</td>\n      <td>2017-06-23 15:09:32</td>\n      <td>2017-06-23 15:14:53</td>\n      <td>321</td>\n      <td>Wood St &amp; Hubbard St</td>\n      <td>Damen Ave &amp; Chicago Ave</td>\n      <td>Subscriber</td>\n      <td>Male</td>\n      <td>1992.0</td>\n    </tr>\n    <tr>\n      <th>1</th>\n      <td>955915</td>\n      <td>2017-05-25 18:19:03</td>\n      <td>2017-05-25 18:45:53</td>\n      <td>1610</td>\n      <td>Theater on the Lake</td>\n      <td>Sheffield Ave &amp; Waveland Ave</td>\n      <td>Subscriber</td>\n      <td>Female</td>\n      <td>1992.0</td>\n    </tr>\n    <tr>\n      <th>2</th>\n      <td>9031</td>\n      <td>2017-01-04 08:27:49</td>\n      <td>2017-01-04 08:34:45</td>\n      <td>416</td>\n      <td>May St &amp; Taylor St</td>\n      <td>Wood St &amp; Taylor St</td>\n      <td>Subscriber</td>\n      <td>Male</td>\n      <td>1981.0</td>\n    </tr>\n    <tr>\n      <th>3</th>\n      <td>304487</td>\n      <td>2017-03-06 13:49:38</td>\n      <td>2017-03-06 13:55:28</td>\n      <td>350</td>\n      <td>Christiana Ave &amp; Lawrence Ave</td>\n      <td>St. Louis Ave &amp; Balmoral Ave</td>\n      <td>Subscriber</td>\n      <td>Male</td>\n      <td>1986.0</td>\n    </tr>\n    <tr>\n      <th>4</th>\n      <td>45207</td>\n      <td>2017-01-17 14:53:07</td>\n      <td>2017-01-17 15:02:01</td>\n      <td>534</td>\n      <td>Clark St &amp; Randolph St</td>\n      <td>Desplaines St &amp; Jackson Blvd</td>\n      <td>Subscriber</td>\n      <td>Male</td>\n      <td>1975.0</td>\n    </tr>\n  </tbody>\n</table>\n</div>"
     },
     "metadata": {},
     "execution_count": 4
    }
   ],
   "source": [
    "df.head()"
   ]
  },
  {
   "cell_type": "code",
   "execution_count": 5,
   "metadata": {},
   "outputs": [
    {
     "output_type": "execute_result",
     "data": {
      "text/plain": [
       "Unnamed: 0       False\n",
       "Start Time       False\n",
       "End Time         False\n",
       "Trip Duration    False\n",
       "Start Station    False\n",
       "End Station      False\n",
       "User Type        False\n",
       "Gender           False\n",
       "Birth Year       False\n",
       "dtype: bool"
      ]
     },
     "metadata": {},
     "execution_count": 5
    }
   ],
   "source": [
    "df.dropna(axis=0,inplace = True)\n",
    "df.isnull().any()"
   ]
  },
  {
   "cell_type": "code",
   "execution_count": 6,
   "metadata": {},
   "outputs": [
    {
     "output_type": "execute_result",
     "data": {
      "text/plain": [
       "count                  238948\n",
       "unique                 234366\n",
       "top       2017-06-29 17:09:27\n",
       "freq                        3\n",
       "first     2017-01-01 00:07:57\n",
       "last      2017-06-30 23:59:01\n",
       "Name: Start Time, dtype: object"
      ]
     },
     "metadata": {},
     "execution_count": 6
    }
   ],
   "source": [
    "# Convert Start Time column from string to datetime\n",
    "df['Start Time'] = pd.to_datetime(df['Start Time'])\n",
    "start_time = df['Start Time']\n",
    "start_time.describe()"
   ]
  },
  {
   "cell_type": "code",
   "execution_count": 7,
   "metadata": {},
   "outputs": [
    {
     "output_type": "execute_result",
     "data": {
      "text/plain": [
       "5.0"
      ]
     },
     "metadata": {},
     "execution_count": 7
    }
   ],
   "source": [
    "# get the most frequent Month\n",
    "months = start_time.dt.month\n",
    "months.median()\n"
   ]
  },
  {
   "cell_type": "code",
   "execution_count": 8,
   "metadata": {},
   "outputs": [
    {
     "output_type": "execute_result",
     "data": {
      "text/plain": [
       "3.0"
      ]
     },
     "metadata": {},
     "execution_count": 8
    }
   ],
   "source": [
    "# get the most frequent day of the week\n",
    "# The day of the week with Monday=0, Sunday=6\n",
    "days = start_time.dt.weekday\n",
    "days.median()\n"
   ]
  },
  {
   "cell_type": "code",
   "execution_count": 9,
   "metadata": {},
   "outputs": [
    {
     "output_type": "execute_result",
     "data": {
      "text/plain": [
       "14.0"
      ]
     },
     "metadata": {},
     "execution_count": 9
    }
   ],
   "source": [
    "# get the most common start hour\n",
    "hours = start_time.dt.hour\n",
    "hours.median()"
   ]
  },
  {
   "cell_type": "code",
   "execution_count": 10,
   "metadata": {},
   "outputs": [
    {
     "output_type": "execute_result",
     "data": {
      "text/plain": [
       "        Unnamed: 0          Start Time             End Time  Trip Duration  \\\n",
       "2             9031 2017-01-04 08:27:49  2017-01-04 08:34:45            416   \n",
       "4            45207 2017-01-17 14:53:07  2017-01-17 15:02:01            534   \n",
       "11           71678 2017-01-22 15:15:45  2017-01-22 15:31:02            917   \n",
       "12           19061 2017-01-08 16:03:00  2017-01-08 16:07:37            277   \n",
       "39           93723 2017-01-26 19:45:41  2017-01-26 19:59:31            830   \n",
       "...            ...                 ...                  ...            ...   \n",
       "299946       69412 2017-01-21 21:29:40  2017-01-21 21:44:59            919   \n",
       "299958      108699 2017-01-31 11:44:34  2017-01-31 11:52:17            463   \n",
       "299972       44015 2017-01-17 08:42:37  2017-01-17 08:53:20            643   \n",
       "299975       49643 2017-01-18 11:28:36  2017-01-18 11:31:14            158   \n",
       "299995       64825 2017-01-21 13:18:00  2017-01-21 13:27:50            590   \n",
       "\n",
       "                         Start Station                   End Station  \\\n",
       "2                   May St & Taylor St           Wood St & Taylor St   \n",
       "4               Clark St & Randolph St  Desplaines St & Jackson Blvd   \n",
       "11      Southport Ave & Wellington Ave        Clark St & Schiller St   \n",
       "12               Green St & Madison St      Ada St & Washington Blvd   \n",
       "39                McClurg Ct & Erie St  Clinton St & Washington Blvd   \n",
       "...                                ...                           ...   \n",
       "299946           Dayton St & North Ave        Leavitt St & North Ave   \n",
       "299958      Indiana Ave & Roosevelt Rd     Michigan Ave & Madison St   \n",
       "299972     Racine Ave & Wrightwood Ave     Clark St & Wellington Ave   \n",
       "299975           Dayton St & North Ave  Sheffield Ave & Kingsbury St   \n",
       "299995         Orleans St & Elm St (*)   Sheffield Ave & Webster Ave   \n",
       "\n",
       "         User Type  Gender  Birth Year  \n",
       "2       Subscriber    Male      1981.0  \n",
       "4       Subscriber    Male      1975.0  \n",
       "11      Subscriber    Male      1964.0  \n",
       "12      Subscriber    Male      1961.0  \n",
       "39      Subscriber    Male      1977.0  \n",
       "...            ...     ...         ...  \n",
       "299946  Subscriber    Male      1986.0  \n",
       "299958  Subscriber  Female      1966.0  \n",
       "299972  Subscriber  Female      1978.0  \n",
       "299975  Subscriber    Male      1958.0  \n",
       "299995  Subscriber    Male      1965.0  \n",
       "\n",
       "[20804 rows x 9 columns]"
      ],
      "text/html": "<div>\n<style scoped>\n    .dataframe tbody tr th:only-of-type {\n        vertical-align: middle;\n    }\n\n    .dataframe tbody tr th {\n        vertical-align: top;\n    }\n\n    .dataframe thead th {\n        text-align: right;\n    }\n</style>\n<table border=\"1\" class=\"dataframe\">\n  <thead>\n    <tr style=\"text-align: right;\">\n      <th></th>\n      <th>Unnamed: 0</th>\n      <th>Start Time</th>\n      <th>End Time</th>\n      <th>Trip Duration</th>\n      <th>Start Station</th>\n      <th>End Station</th>\n      <th>User Type</th>\n      <th>Gender</th>\n      <th>Birth Year</th>\n    </tr>\n  </thead>\n  <tbody>\n    <tr>\n      <th>2</th>\n      <td>9031</td>\n      <td>2017-01-04 08:27:49</td>\n      <td>2017-01-04 08:34:45</td>\n      <td>416</td>\n      <td>May St &amp; Taylor St</td>\n      <td>Wood St &amp; Taylor St</td>\n      <td>Subscriber</td>\n      <td>Male</td>\n      <td>1981.0</td>\n    </tr>\n    <tr>\n      <th>4</th>\n      <td>45207</td>\n      <td>2017-01-17 14:53:07</td>\n      <td>2017-01-17 15:02:01</td>\n      <td>534</td>\n      <td>Clark St &amp; Randolph St</td>\n      <td>Desplaines St &amp; Jackson Blvd</td>\n      <td>Subscriber</td>\n      <td>Male</td>\n      <td>1975.0</td>\n    </tr>\n    <tr>\n      <th>11</th>\n      <td>71678</td>\n      <td>2017-01-22 15:15:45</td>\n      <td>2017-01-22 15:31:02</td>\n      <td>917</td>\n      <td>Southport Ave &amp; Wellington Ave</td>\n      <td>Clark St &amp; Schiller St</td>\n      <td>Subscriber</td>\n      <td>Male</td>\n      <td>1964.0</td>\n    </tr>\n    <tr>\n      <th>12</th>\n      <td>19061</td>\n      <td>2017-01-08 16:03:00</td>\n      <td>2017-01-08 16:07:37</td>\n      <td>277</td>\n      <td>Green St &amp; Madison St</td>\n      <td>Ada St &amp; Washington Blvd</td>\n      <td>Subscriber</td>\n      <td>Male</td>\n      <td>1961.0</td>\n    </tr>\n    <tr>\n      <th>39</th>\n      <td>93723</td>\n      <td>2017-01-26 19:45:41</td>\n      <td>2017-01-26 19:59:31</td>\n      <td>830</td>\n      <td>McClurg Ct &amp; Erie St</td>\n      <td>Clinton St &amp; Washington Blvd</td>\n      <td>Subscriber</td>\n      <td>Male</td>\n      <td>1977.0</td>\n    </tr>\n    <tr>\n      <th>...</th>\n      <td>...</td>\n      <td>...</td>\n      <td>...</td>\n      <td>...</td>\n      <td>...</td>\n      <td>...</td>\n      <td>...</td>\n      <td>...</td>\n      <td>...</td>\n    </tr>\n    <tr>\n      <th>299946</th>\n      <td>69412</td>\n      <td>2017-01-21 21:29:40</td>\n      <td>2017-01-21 21:44:59</td>\n      <td>919</td>\n      <td>Dayton St &amp; North Ave</td>\n      <td>Leavitt St &amp; North Ave</td>\n      <td>Subscriber</td>\n      <td>Male</td>\n      <td>1986.0</td>\n    </tr>\n    <tr>\n      <th>299958</th>\n      <td>108699</td>\n      <td>2017-01-31 11:44:34</td>\n      <td>2017-01-31 11:52:17</td>\n      <td>463</td>\n      <td>Indiana Ave &amp; Roosevelt Rd</td>\n      <td>Michigan Ave &amp; Madison St</td>\n      <td>Subscriber</td>\n      <td>Female</td>\n      <td>1966.0</td>\n    </tr>\n    <tr>\n      <th>299972</th>\n      <td>44015</td>\n      <td>2017-01-17 08:42:37</td>\n      <td>2017-01-17 08:53:20</td>\n      <td>643</td>\n      <td>Racine Ave &amp; Wrightwood Ave</td>\n      <td>Clark St &amp; Wellington Ave</td>\n      <td>Subscriber</td>\n      <td>Female</td>\n      <td>1978.0</td>\n    </tr>\n    <tr>\n      <th>299975</th>\n      <td>49643</td>\n      <td>2017-01-18 11:28:36</td>\n      <td>2017-01-18 11:31:14</td>\n      <td>158</td>\n      <td>Dayton St &amp; North Ave</td>\n      <td>Sheffield Ave &amp; Kingsbury St</td>\n      <td>Subscriber</td>\n      <td>Male</td>\n      <td>1958.0</td>\n    </tr>\n    <tr>\n      <th>299995</th>\n      <td>64825</td>\n      <td>2017-01-21 13:18:00</td>\n      <td>2017-01-21 13:27:50</td>\n      <td>590</td>\n      <td>Orleans St &amp; Elm St (*)</td>\n      <td>Sheffield Ave &amp; Webster Ave</td>\n      <td>Subscriber</td>\n      <td>Male</td>\n      <td>1965.0</td>\n    </tr>\n  </tbody>\n</table>\n<p>20804 rows × 9 columns</p>\n</div>"
     },
     "metadata": {},
     "execution_count": 10
    }
   ],
   "source": [
    "# filter data by month\n",
    "# january = 1 , December = 12\n",
    "df[df['Start Time'].dt.month == 1]"
   ]
  },
  {
   "cell_type": "code",
   "execution_count": 11,
   "metadata": {},
   "outputs": [
    {
     "output_type": "execute_result",
     "data": {
      "text/plain": [
       "'Clinton St & Washington Blvd'"
      ]
     },
     "metadata": {},
     "execution_count": 11
    }
   ],
   "source": [
    "#most commonly used start station\n",
    "most_start_station = df['Start Station'].value_counts().keys()[0]\n",
    "most_start_station"
   ]
  },
  {
   "cell_type": "code",
   "execution_count": 12,
   "metadata": {},
   "outputs": [
    {
     "output_type": "execute_result",
     "data": {
      "text/plain": [
       "'from Canal St & Madison St to Michigan Ave & Washington St'"
      ]
     },
     "metadata": {},
     "execution_count": 12
    }
   ],
   "source": [
    "# combine start and end trip in a new column\n",
    "df['routes']= 'from ' + df['Start Station'] + ' to ' + df['End Station']\n",
    "# get the most common route\n",
    "df['routes'].value_counts().keys()[0]"
   ]
  },
  {
   "cell_type": "code",
   "execution_count": 13,
   "metadata": {},
   "outputs": [
    {
     "output_type": "execute_result",
     "data": {
      "text/plain": [
       "699.3908088789193"
      ]
     },
     "metadata": {},
     "execution_count": 13
    }
   ],
   "source": [
    "# Calculate total travel time\n",
    "df['Trip Duration'].mean()"
   ]
  },
  {
   "cell_type": "code",
   "execution_count": 14,
   "metadata": {},
   "outputs": [
    {
     "output_type": "execute_result",
     "data": {
      "text/plain": [
       "167118035"
      ]
     },
     "metadata": {},
     "execution_count": 14
    }
   ],
   "source": [
    "#Calculate Total travel time\n",
    "df['Trip Duration'].sum()"
   ]
  },
  {
   "cell_type": "code",
   "execution_count": 15,
   "metadata": {},
   "outputs": [
    {
     "output_type": "execute_result",
     "data": {
      "text/plain": [
       "Subscriber    238856\n",
       "Customer          91\n",
       "Dependent          1\n",
       "Name: User Type, dtype: int64"
      ]
     },
     "metadata": {},
     "execution_count": 15
    }
   ],
   "source": [
    "# get user types\n",
    "df['User Type'].value_counts()\n"
   ]
  },
  {
   "cell_type": "code",
   "execution_count": 16,
   "metadata": {},
   "outputs": [
    {
     "output_type": "execute_result",
     "data": {
      "text/plain": [
       "Male      181190\n",
       "Female     57758\n",
       "Name: Gender, dtype: int64"
      ]
     },
     "metadata": {},
     "execution_count": 16
    }
   ],
   "source": [
    "#get user Gender\n",
    "df['Gender'].value_counts()"
   ]
  },
  {
   "cell_type": "code",
   "execution_count": 19,
   "metadata": {},
   "outputs": [
    {
     "output_type": "execute_result",
     "data": {
      "text/plain": [
       "count    238948.000000\n",
       "mean       1980.858342\n",
       "std          11.004084\n",
       "min        1899.000000\n",
       "25%        1975.000000\n",
       "50%        1984.000000\n",
       "75%        1989.000000\n",
       "max        2016.000000\n",
       "Name: Birth Year, dtype: float64"
      ]
     },
     "metadata": {},
     "execution_count": 19
    }
   ],
   "source": [
    "# Display earliest, most recent, and most common year of birth\n",
    "year_of_birth = df['Birth Year'].astype(int)\n",
    "year_of_birth.describe()"
   ]
  },
  {
   "cell_type": "code",
   "execution_count": null,
   "metadata": {},
   "outputs": [],
   "source": []
  }
 ]
}