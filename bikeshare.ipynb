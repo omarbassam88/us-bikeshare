{
 "metadata": {
  "language_info": {
   "codemirror_mode": {
    "name": "ipython",
    "version": 3
   },
   "file_extension": ".py",
   "mimetype": "text/x-python",
   "name": "python",
   "nbconvert_exporter": "python",
   "pygments_lexer": "ipython3",
   "version": "3.8.3-final"
  },
  "orig_nbformat": 2,
  "kernelspec": {
   "name": "python3",
   "display_name": "Python 3"
  }
 },
 "nbformat": 4,
 "nbformat_minor": 2,
 "cells": [
  {
   "cell_type": "code",
   "execution_count": 2,
   "metadata": {},
   "outputs": [],
   "source": [
    "# This notebook is just to explore the data.\n",
    "# the main application code is in the python file"
   ]
  },
  {
   "cell_type": "code",
   "execution_count": 3,
   "metadata": {},
   "outputs": [],
   "source": [
    "import time\n",
    "import pandas as pd\n",
    "import numpy as np"
   ]
  },
  {
   "cell_type": "code",
   "execution_count": 4,
   "metadata": {},
   "outputs": [],
   "source": [
    "data=pd.read_csv('chicago.csv')"
   ]
  },
  {
   "cell_type": "code",
   "execution_count": 5,
   "metadata": {},
   "outputs": [
    {
     "output_type": "execute_result",
     "data": {
      "text/plain": [
       "   Unnamed: 0           Start Time             End Time  Trip Duration  \\\n",
       "0     1423854  2017-06-23 15:09:32  2017-06-23 15:14:53            321   \n",
       "1      955915  2017-05-25 18:19:03  2017-05-25 18:45:53           1610   \n",
       "2        9031  2017-01-04 08:27:49  2017-01-04 08:34:45            416   \n",
       "3      304487  2017-03-06 13:49:38  2017-03-06 13:55:28            350   \n",
       "4       45207  2017-01-17 14:53:07  2017-01-17 15:02:01            534   \n",
       "\n",
       "                   Start Station                   End Station   User Type  \\\n",
       "0           Wood St & Hubbard St       Damen Ave & Chicago Ave  Subscriber   \n",
       "1            Theater on the Lake  Sheffield Ave & Waveland Ave  Subscriber   \n",
       "2             May St & Taylor St           Wood St & Taylor St  Subscriber   \n",
       "3  Christiana Ave & Lawrence Ave  St. Louis Ave & Balmoral Ave  Subscriber   \n",
       "4         Clark St & Randolph St  Desplaines St & Jackson Blvd  Subscriber   \n",
       "\n",
       "   Gender  Birth Year  \n",
       "0    Male      1992.0  \n",
       "1  Female      1992.0  \n",
       "2    Male      1981.0  \n",
       "3    Male      1986.0  \n",
       "4    Male      1975.0  "
      ],
      "text/html": "<div>\n<style scoped>\n    .dataframe tbody tr th:only-of-type {\n        vertical-align: middle;\n    }\n\n    .dataframe tbody tr th {\n        vertical-align: top;\n    }\n\n    .dataframe thead th {\n        text-align: right;\n    }\n</style>\n<table border=\"1\" class=\"dataframe\">\n  <thead>\n    <tr style=\"text-align: right;\">\n      <th></th>\n      <th>Unnamed: 0</th>\n      <th>Start Time</th>\n      <th>End Time</th>\n      <th>Trip Duration</th>\n      <th>Start Station</th>\n      <th>End Station</th>\n      <th>User Type</th>\n      <th>Gender</th>\n      <th>Birth Year</th>\n    </tr>\n  </thead>\n  <tbody>\n    <tr>\n      <th>0</th>\n      <td>1423854</td>\n      <td>2017-06-23 15:09:32</td>\n      <td>2017-06-23 15:14:53</td>\n      <td>321</td>\n      <td>Wood St &amp; Hubbard St</td>\n      <td>Damen Ave &amp; Chicago Ave</td>\n      <td>Subscriber</td>\n      <td>Male</td>\n      <td>1992.0</td>\n    </tr>\n    <tr>\n      <th>1</th>\n      <td>955915</td>\n      <td>2017-05-25 18:19:03</td>\n      <td>2017-05-25 18:45:53</td>\n      <td>1610</td>\n      <td>Theater on the Lake</td>\n      <td>Sheffield Ave &amp; Waveland Ave</td>\n      <td>Subscriber</td>\n      <td>Female</td>\n      <td>1992.0</td>\n    </tr>\n    <tr>\n      <th>2</th>\n      <td>9031</td>\n      <td>2017-01-04 08:27:49</td>\n      <td>2017-01-04 08:34:45</td>\n      <td>416</td>\n      <td>May St &amp; Taylor St</td>\n      <td>Wood St &amp; Taylor St</td>\n      <td>Subscriber</td>\n      <td>Male</td>\n      <td>1981.0</td>\n    </tr>\n    <tr>\n      <th>3</th>\n      <td>304487</td>\n      <td>2017-03-06 13:49:38</td>\n      <td>2017-03-06 13:55:28</td>\n      <td>350</td>\n      <td>Christiana Ave &amp; Lawrence Ave</td>\n      <td>St. Louis Ave &amp; Balmoral Ave</td>\n      <td>Subscriber</td>\n      <td>Male</td>\n      <td>1986.0</td>\n    </tr>\n    <tr>\n      <th>4</th>\n      <td>45207</td>\n      <td>2017-01-17 14:53:07</td>\n      <td>2017-01-17 15:02:01</td>\n      <td>534</td>\n      <td>Clark St &amp; Randolph St</td>\n      <td>Desplaines St &amp; Jackson Blvd</td>\n      <td>Subscriber</td>\n      <td>Male</td>\n      <td>1975.0</td>\n    </tr>\n  </tbody>\n</table>\n</div>"
     },
     "metadata": {},
     "execution_count": 5
    }
   ],
   "source": [
    "data.head()"
   ]
  },
  {
   "cell_type": "code",
   "execution_count": 6,
   "metadata": {},
   "outputs": [
    {
     "output_type": "execute_result",
     "data": {
      "text/plain": [
       "Index(['Unnamed: 0', 'Start Time', 'End Time', 'Trip Duration',\n",
       "       'Start Station', 'End Station', 'User Type', 'Gender', 'Birth Year'],\n",
       "      dtype='object')"
      ]
     },
     "metadata": {},
     "execution_count": 6
    }
   ],
   "source": [
    "data.columns"
   ]
  },
  {
   "cell_type": "code",
   "execution_count": 7,
   "metadata": {},
   "outputs": [
    {
     "output_type": "execute_result",
     "data": {
      "text/plain": [
       "         Unnamed: 0  Trip Duration     Birth Year\n",
       "count  3.000000e+05  300000.000000  238981.000000\n",
       "mean   7.763458e+05     936.239290    1980.858223\n",
       "std    4.481464e+05    1548.792767      11.003329\n",
       "min    4.000000e+00      60.000000    1899.000000\n",
       "25%    3.871368e+05     393.000000    1975.000000\n",
       "50%    7.771035e+05     670.000000    1984.000000\n",
       "75%    1.164065e+06    1125.000000    1989.000000\n",
       "max    1.551500e+06   86224.000000    2016.000000"
      ],
      "text/html": "<div>\n<style scoped>\n    .dataframe tbody tr th:only-of-type {\n        vertical-align: middle;\n    }\n\n    .dataframe tbody tr th {\n        vertical-align: top;\n    }\n\n    .dataframe thead th {\n        text-align: right;\n    }\n</style>\n<table border=\"1\" class=\"dataframe\">\n  <thead>\n    <tr style=\"text-align: right;\">\n      <th></th>\n      <th>Unnamed: 0</th>\n      <th>Trip Duration</th>\n      <th>Birth Year</th>\n    </tr>\n  </thead>\n  <tbody>\n    <tr>\n      <th>count</th>\n      <td>3.000000e+05</td>\n      <td>300000.000000</td>\n      <td>238981.000000</td>\n    </tr>\n    <tr>\n      <th>mean</th>\n      <td>7.763458e+05</td>\n      <td>936.239290</td>\n      <td>1980.858223</td>\n    </tr>\n    <tr>\n      <th>std</th>\n      <td>4.481464e+05</td>\n      <td>1548.792767</td>\n      <td>11.003329</td>\n    </tr>\n    <tr>\n      <th>min</th>\n      <td>4.000000e+00</td>\n      <td>60.000000</td>\n      <td>1899.000000</td>\n    </tr>\n    <tr>\n      <th>25%</th>\n      <td>3.871368e+05</td>\n      <td>393.000000</td>\n      <td>1975.000000</td>\n    </tr>\n    <tr>\n      <th>50%</th>\n      <td>7.771035e+05</td>\n      <td>670.000000</td>\n      <td>1984.000000</td>\n    </tr>\n    <tr>\n      <th>75%</th>\n      <td>1.164065e+06</td>\n      <td>1125.000000</td>\n      <td>1989.000000</td>\n    </tr>\n    <tr>\n      <th>max</th>\n      <td>1.551500e+06</td>\n      <td>86224.000000</td>\n      <td>2016.000000</td>\n    </tr>\n  </tbody>\n</table>\n</div>"
     },
     "metadata": {},
     "execution_count": 7
    }
   ],
   "source": [
    "data.describe()"
   ]
  },
  {
   "cell_type": "code",
   "execution_count": 8,
   "metadata": {},
   "outputs": [
    {
     "output_type": "execute_result",
     "data": {
      "text/plain": [
       "count                  300000\n",
       "unique                 292758\n",
       "top       2017-05-15 13:13:00\n",
       "freq                        4\n",
       "first     2017-01-01 00:07:57\n",
       "last      2017-06-30 23:59:01\n",
       "Name: Start Time, dtype: object"
      ]
     },
     "metadata": {},
     "execution_count": 8
    }
   ],
   "source": [
    "start_time = data['Start Time'].astype(np.datetime64)\n",
    "start_time.describe()"
   ]
  },
  {
   "cell_type": "code",
   "execution_count": 9,
   "metadata": {},
   "outputs": [
    {
     "output_type": "execute_result",
     "data": {
      "text/plain": [
       "5.0"
      ]
     },
     "metadata": {},
     "execution_count": 9
    }
   ],
   "source": [
    "# get the most frequent Month\n",
    "months = start_time.dt.month\n",
    "months.median()\n"
   ]
  },
  {
   "cell_type": "code",
   "execution_count": 10,
   "metadata": {},
   "outputs": [
    {
     "output_type": "execute_result",
     "data": {
      "text/plain": [
       "3.0"
      ]
     },
     "metadata": {},
     "execution_count": 10
    }
   ],
   "source": [
    "# get the most frequent day of the week\n",
    "# The day of the week with Monday=0, Sunday=6\n",
    "days = start_time.dt.weekday\n",
    "days.median()\n"
   ]
  },
  {
   "cell_type": "code",
   "execution_count": 11,
   "metadata": {},
   "outputs": [
    {
     "output_type": "execute_result",
     "data": {
      "text/plain": [
       "14.0"
      ]
     },
     "metadata": {},
     "execution_count": 11
    }
   ],
   "source": [
    "# get the most common start hour\n",
    "hours = start_time.dt.hour\n",
    "hours.median()"
   ]
  },
  {
   "cell_type": "code",
   "execution_count": 12,
   "metadata": {},
   "outputs": [
    {
     "output_type": "execute_result",
     "data": {
      "text/plain": [
       "        Unnamed: 0           Start Time             End Time  Trip Duration  \\\n",
       "1           955915  2017-05-25 18:19:03  2017-05-25 18:45:53           1610   \n",
       "6           961916  2017-05-26 09:41:44  2017-05-26 09:46:25            281   \n",
       "13         1023296  2017-05-30 15:46:18  2017-05-30 15:52:12            354   \n",
       "15          958716  2017-05-25 22:59:33  2017-05-25 23:07:19            466   \n",
       "16          718598  2017-05-03 13:20:38  2017-05-03 13:31:13            635   \n",
       "...            ...                  ...                  ...            ...   \n",
       "299985      712351  2017-05-02 17:45:19  2017-05-02 17:52:00            401   \n",
       "299989     1005203  2017-05-29 13:45:56  2017-05-29 13:54:15            499   \n",
       "299991      723217  2017-05-03 19:15:23  2017-05-03 19:29:32            849   \n",
       "299994      935129  2017-05-23 17:08:04  2017-05-23 17:11:37            213   \n",
       "299999     1021247  2017-05-30 12:38:28  2017-05-30 12:55:36           1028   \n",
       "\n",
       "                       Start Station                     End Station  \\\n",
       "1                Theater on the Lake    Sheffield Ave & Waveland Ave   \n",
       "6              Ashland Ave & Lake St            Wood St & Hubbard St   \n",
       "13        Larrabee St & Kingsbury St               Clark St & Elm St   \n",
       "15           Clark St & Armitage Ave  Sheffield Ave & Wrightwood Ave   \n",
       "16          Ada St & Washington Blvd              Daley Center Plaza   \n",
       "...                              ...                             ...   \n",
       "299985      Canal St & Monroe St (*)       Milwaukee Ave & Grand Ave   \n",
       "299989         Green St & Madison St            Canal St & Taylor St   \n",
       "299991  Milwaukee Ave & Wabansia Ave       Ashland Ave & Chicago Ave   \n",
       "299994         Indiana Ave & 31st St             MLK Jr Dr & 29th St   \n",
       "299999     Wacker Dr & Washington St         Damen Ave & Division St   \n",
       "\n",
       "         User Type  Gender  Birth Year  \n",
       "1       Subscriber  Female      1992.0  \n",
       "6       Subscriber  Female      1983.0  \n",
       "13      Subscriber    Male      1985.0  \n",
       "15      Subscriber  Female      1985.0  \n",
       "16      Subscriber    Male      1967.0  \n",
       "...            ...     ...         ...  \n",
       "299985  Subscriber    Male      1991.0  \n",
       "299989    Customer     NaN         NaN  \n",
       "299991  Subscriber  Female      1982.0  \n",
       "299994  Subscriber    Male      1988.0  \n",
       "299999  Subscriber    Male      1984.0  \n",
       "\n",
       "[66755 rows x 9 columns]"
      ],
      "text/html": "<div>\n<style scoped>\n    .dataframe tbody tr th:only-of-type {\n        vertical-align: middle;\n    }\n\n    .dataframe tbody tr th {\n        vertical-align: top;\n    }\n\n    .dataframe thead th {\n        text-align: right;\n    }\n</style>\n<table border=\"1\" class=\"dataframe\">\n  <thead>\n    <tr style=\"text-align: right;\">\n      <th></th>\n      <th>Unnamed: 0</th>\n      <th>Start Time</th>\n      <th>End Time</th>\n      <th>Trip Duration</th>\n      <th>Start Station</th>\n      <th>End Station</th>\n      <th>User Type</th>\n      <th>Gender</th>\n      <th>Birth Year</th>\n    </tr>\n  </thead>\n  <tbody>\n    <tr>\n      <th>1</th>\n      <td>955915</td>\n      <td>2017-05-25 18:19:03</td>\n      <td>2017-05-25 18:45:53</td>\n      <td>1610</td>\n      <td>Theater on the Lake</td>\n      <td>Sheffield Ave &amp; Waveland Ave</td>\n      <td>Subscriber</td>\n      <td>Female</td>\n      <td>1992.0</td>\n    </tr>\n    <tr>\n      <th>6</th>\n      <td>961916</td>\n      <td>2017-05-26 09:41:44</td>\n      <td>2017-05-26 09:46:25</td>\n      <td>281</td>\n      <td>Ashland Ave &amp; Lake St</td>\n      <td>Wood St &amp; Hubbard St</td>\n      <td>Subscriber</td>\n      <td>Female</td>\n      <td>1983.0</td>\n    </tr>\n    <tr>\n      <th>13</th>\n      <td>1023296</td>\n      <td>2017-05-30 15:46:18</td>\n      <td>2017-05-30 15:52:12</td>\n      <td>354</td>\n      <td>Larrabee St &amp; Kingsbury St</td>\n      <td>Clark St &amp; Elm St</td>\n      <td>Subscriber</td>\n      <td>Male</td>\n      <td>1985.0</td>\n    </tr>\n    <tr>\n      <th>15</th>\n      <td>958716</td>\n      <td>2017-05-25 22:59:33</td>\n      <td>2017-05-25 23:07:19</td>\n      <td>466</td>\n      <td>Clark St &amp; Armitage Ave</td>\n      <td>Sheffield Ave &amp; Wrightwood Ave</td>\n      <td>Subscriber</td>\n      <td>Female</td>\n      <td>1985.0</td>\n    </tr>\n    <tr>\n      <th>16</th>\n      <td>718598</td>\n      <td>2017-05-03 13:20:38</td>\n      <td>2017-05-03 13:31:13</td>\n      <td>635</td>\n      <td>Ada St &amp; Washington Blvd</td>\n      <td>Daley Center Plaza</td>\n      <td>Subscriber</td>\n      <td>Male</td>\n      <td>1967.0</td>\n    </tr>\n    <tr>\n      <th>...</th>\n      <td>...</td>\n      <td>...</td>\n      <td>...</td>\n      <td>...</td>\n      <td>...</td>\n      <td>...</td>\n      <td>...</td>\n      <td>...</td>\n      <td>...</td>\n    </tr>\n    <tr>\n      <th>299985</th>\n      <td>712351</td>\n      <td>2017-05-02 17:45:19</td>\n      <td>2017-05-02 17:52:00</td>\n      <td>401</td>\n      <td>Canal St &amp; Monroe St (*)</td>\n      <td>Milwaukee Ave &amp; Grand Ave</td>\n      <td>Subscriber</td>\n      <td>Male</td>\n      <td>1991.0</td>\n    </tr>\n    <tr>\n      <th>299989</th>\n      <td>1005203</td>\n      <td>2017-05-29 13:45:56</td>\n      <td>2017-05-29 13:54:15</td>\n      <td>499</td>\n      <td>Green St &amp; Madison St</td>\n      <td>Canal St &amp; Taylor St</td>\n      <td>Customer</td>\n      <td>NaN</td>\n      <td>NaN</td>\n    </tr>\n    <tr>\n      <th>299991</th>\n      <td>723217</td>\n      <td>2017-05-03 19:15:23</td>\n      <td>2017-05-03 19:29:32</td>\n      <td>849</td>\n      <td>Milwaukee Ave &amp; Wabansia Ave</td>\n      <td>Ashland Ave &amp; Chicago Ave</td>\n      <td>Subscriber</td>\n      <td>Female</td>\n      <td>1982.0</td>\n    </tr>\n    <tr>\n      <th>299994</th>\n      <td>935129</td>\n      <td>2017-05-23 17:08:04</td>\n      <td>2017-05-23 17:11:37</td>\n      <td>213</td>\n      <td>Indiana Ave &amp; 31st St</td>\n      <td>MLK Jr Dr &amp; 29th St</td>\n      <td>Subscriber</td>\n      <td>Male</td>\n      <td>1988.0</td>\n    </tr>\n    <tr>\n      <th>299999</th>\n      <td>1021247</td>\n      <td>2017-05-30 12:38:28</td>\n      <td>2017-05-30 12:55:36</td>\n      <td>1028</td>\n      <td>Wacker Dr &amp; Washington St</td>\n      <td>Damen Ave &amp; Division St</td>\n      <td>Subscriber</td>\n      <td>Male</td>\n      <td>1984.0</td>\n    </tr>\n  </tbody>\n</table>\n<p>66755 rows × 9 columns</p>\n</div>"
     },
     "metadata": {},
     "execution_count": 12
    }
   ],
   "source": [
    "#filter data by month\n",
    "data[data['Start Time'].astype(np.datetime64).dt.month == 5]"
   ]
  },
  {
   "cell_type": "code",
   "execution_count": 50,
   "metadata": {},
   "outputs": [
    {
     "output_type": "execute_result",
     "data": {
      "text/plain": [
       "'Streeter Dr & Grand Ave'"
      ]
     },
     "metadata": {},
     "execution_count": 50
    }
   ],
   "source": [
    "#most commonly used start station\n",
    "most_start_station = data['Start Station'].value_counts().keys()[0]\n",
    "most_start_station"
   ]
  },
  {
   "cell_type": "code",
   "execution_count": 59,
   "metadata": {},
   "outputs": [
    {
     "output_type": "execute_result",
     "data": {
      "text/plain": [
       "'from Lake Shore Dr & Monroe Stto Streeter Dr & Grand Ave'"
      ]
     },
     "metadata": {},
     "execution_count": 59
    }
   ],
   "source": [
    "# combine start and end trip\n",
    "data['routes']= 'from ' + data['Start Station'] + ' to ' + data['End Station']\n",
    "data['routes'].value_counts().keys()[0]"
   ]
  },
  {
   "cell_type": "code",
   "execution_count": 67,
   "metadata": {},
   "outputs": [
    {
     "output_type": "execute_result",
     "data": {
      "text/plain": [
       "float"
      ]
     },
     "metadata": {},
     "execution_count": 67
    }
   ],
   "source": [
    "# Calculate total travel time\n",
    "data['Trip Duration'].mean()"
   ]
  },
  {
   "cell_type": "code",
   "execution_count": 68,
   "metadata": {},
   "outputs": [
    {
     "output_type": "execute_result",
     "data": {
      "text/plain": [
       "numpy.int64"
      ]
     },
     "metadata": {},
     "execution_count": 68
    }
   ],
   "source": [
    "#Calculate Total travel time\n",
    "data['Trip Duration'].sum()"
   ]
  },
  {
   "cell_type": "code",
   "execution_count": 81,
   "metadata": {},
   "outputs": [
    {
     "output_type": "execute_result",
     "data": {
      "text/plain": [
       "Subscriber    238889\n",
       "Customer       61110\n",
       "Dependent          1\n",
       "Name: User Type, dtype: int64"
      ]
     },
     "metadata": {},
     "execution_count": 81
    }
   ],
   "source": [
    "# get user types\n",
    "data['User Type'].value_counts()\n"
   ]
  },
  {
   "cell_type": "code",
   "execution_count": 87,
   "metadata": {},
   "outputs": [
    {
     "output_type": "stream",
     "name": "stdout",
     "text": [
      "Male      181190\nFemale     57758\nName: Gender, dtype: int64\n"
     ]
    }
   ],
   "source": [
    "#get user Gender\n",
    "data['Gender'].value_counts()"
   ]
  },
  {
   "cell_type": "code",
   "execution_count": null,
   "metadata": {},
   "outputs": [],
   "source": []
  }
 ]
}