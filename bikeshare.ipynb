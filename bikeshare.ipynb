{
 "metadata": {
  "language_info": {
   "codemirror_mode": {
    "name": "ipython",
    "version": 3
   },
   "file_extension": ".py",
   "mimetype": "text/x-python",
   "name": "python",
   "nbconvert_exporter": "python",
   "pygments_lexer": "ipython3",
   "version": "3.8.3-final"
  },
  "orig_nbformat": 2,
  "kernelspec": {
   "name": "python3",
   "display_name": "Python 3"
  }
 },
 "nbformat": 4,
 "nbformat_minor": 2,
 "cells": [
  {
   "cell_type": "code",
   "execution_count": 2,
   "metadata": {},
   "outputs": [],
   "source": [
    "# This notebook is just to explore the data.\n",
    "# the main application code is in the python file"
   ]
  },
  {
   "cell_type": "code",
   "execution_count": 1,
   "metadata": {},
   "outputs": [],
   "source": [
    "import pandas as pd\n",
    "import numpy as np"
   ]
  },
  {
   "cell_type": "code",
   "execution_count": 4,
   "metadata": {},
   "outputs": [],
   "source": [
    "df =pd.read_csv('chicago.csv')"
   ]
  },
  {
   "cell_type": "code",
   "execution_count": 5,
   "metadata": {},
   "outputs": [
    {
     "output_type": "execute_result",
     "data": {
      "text/plain": [
       "   Unnamed: 0           Start Time             End Time  Trip Duration  \\\n",
       "0     1423854  2017-06-23 15:09:32  2017-06-23 15:14:53            321   \n",
       "1      955915  2017-05-25 18:19:03  2017-05-25 18:45:53           1610   \n",
       "2        9031  2017-01-04 08:27:49  2017-01-04 08:34:45            416   \n",
       "3      304487  2017-03-06 13:49:38  2017-03-06 13:55:28            350   \n",
       "4       45207  2017-01-17 14:53:07  2017-01-17 15:02:01            534   \n",
       "\n",
       "                   Start Station                   End Station   User Type  \\\n",
       "0           Wood St & Hubbard St       Damen Ave & Chicago Ave  Subscriber   \n",
       "1            Theater on the Lake  Sheffield Ave & Waveland Ave  Subscriber   \n",
       "2             May St & Taylor St           Wood St & Taylor St  Subscriber   \n",
       "3  Christiana Ave & Lawrence Ave  St. Louis Ave & Balmoral Ave  Subscriber   \n",
       "4         Clark St & Randolph St  Desplaines St & Jackson Blvd  Subscriber   \n",
       "\n",
       "   Gender  Birth Year  \n",
       "0    Male      1992.0  \n",
       "1  Female      1992.0  \n",
       "2    Male      1981.0  \n",
       "3    Male      1986.0  \n",
       "4    Male      1975.0  "
      ],
      "text/html": "<div>\n<style scoped>\n    .dataframe tbody tr th:only-of-type {\n        vertical-align: middle;\n    }\n\n    .dataframe tbody tr th {\n        vertical-align: top;\n    }\n\n    .dataframe thead th {\n        text-align: right;\n    }\n</style>\n<table border=\"1\" class=\"dataframe\">\n  <thead>\n    <tr style=\"text-align: right;\">\n      <th></th>\n      <th>Unnamed: 0</th>\n      <th>Start Time</th>\n      <th>End Time</th>\n      <th>Trip Duration</th>\n      <th>Start Station</th>\n      <th>End Station</th>\n      <th>User Type</th>\n      <th>Gender</th>\n      <th>Birth Year</th>\n    </tr>\n  </thead>\n  <tbody>\n    <tr>\n      <th>0</th>\n      <td>1423854</td>\n      <td>2017-06-23 15:09:32</td>\n      <td>2017-06-23 15:14:53</td>\n      <td>321</td>\n      <td>Wood St &amp; Hubbard St</td>\n      <td>Damen Ave &amp; Chicago Ave</td>\n      <td>Subscriber</td>\n      <td>Male</td>\n      <td>1992.0</td>\n    </tr>\n    <tr>\n      <th>1</th>\n      <td>955915</td>\n      <td>2017-05-25 18:19:03</td>\n      <td>2017-05-25 18:45:53</td>\n      <td>1610</td>\n      <td>Theater on the Lake</td>\n      <td>Sheffield Ave &amp; Waveland Ave</td>\n      <td>Subscriber</td>\n      <td>Female</td>\n      <td>1992.0</td>\n    </tr>\n    <tr>\n      <th>2</th>\n      <td>9031</td>\n      <td>2017-01-04 08:27:49</td>\n      <td>2017-01-04 08:34:45</td>\n      <td>416</td>\n      <td>May St &amp; Taylor St</td>\n      <td>Wood St &amp; Taylor St</td>\n      <td>Subscriber</td>\n      <td>Male</td>\n      <td>1981.0</td>\n    </tr>\n    <tr>\n      <th>3</th>\n      <td>304487</td>\n      <td>2017-03-06 13:49:38</td>\n      <td>2017-03-06 13:55:28</td>\n      <td>350</td>\n      <td>Christiana Ave &amp; Lawrence Ave</td>\n      <td>St. Louis Ave &amp; Balmoral Ave</td>\n      <td>Subscriber</td>\n      <td>Male</td>\n      <td>1986.0</td>\n    </tr>\n    <tr>\n      <th>4</th>\n      <td>45207</td>\n      <td>2017-01-17 14:53:07</td>\n      <td>2017-01-17 15:02:01</td>\n      <td>534</td>\n      <td>Clark St &amp; Randolph St</td>\n      <td>Desplaines St &amp; Jackson Blvd</td>\n      <td>Subscriber</td>\n      <td>Male</td>\n      <td>1975.0</td>\n    </tr>\n  </tbody>\n</table>\n</div>"
     },
     "metadata": {},
     "execution_count": 5
    }
   ],
   "source": [
    "data.head()"
   ]
  },
  {
   "cell_type": "code",
   "execution_count": 6,
   "metadata": {},
   "outputs": [
    {
     "output_type": "execute_result",
     "data": {
      "text/plain": [
       "Index(['Unnamed: 0', 'Start Time', 'End Time', 'Trip Duration',\n",
       "       'Start Station', 'End Station', 'User Type', 'Gender', 'Birth Year'],\n",
       "      dtype='object')"
      ]
     },
     "metadata": {},
     "execution_count": 6
    }
   ],
   "source": [
    "data.columns"
   ]
  },
  {
   "cell_type": "code",
   "execution_count": 7,
   "metadata": {},
   "outputs": [
    {
     "output_type": "execute_result",
     "data": {
      "text/plain": [
       "         Unnamed: 0  Trip Duration     Birth Year\n",
       "count  3.000000e+05  300000.000000  238981.000000\n",
       "mean   7.763458e+05     936.239290    1980.858223\n",
       "std    4.481464e+05    1548.792767      11.003329\n",
       "min    4.000000e+00      60.000000    1899.000000\n",
       "25%    3.871368e+05     393.000000    1975.000000\n",
       "50%    7.771035e+05     670.000000    1984.000000\n",
       "75%    1.164065e+06    1125.000000    1989.000000\n",
       "max    1.551500e+06   86224.000000    2016.000000"
      ],
      "text/html": "<div>\n<style scoped>\n    .dataframe tbody tr th:only-of-type {\n        vertical-align: middle;\n    }\n\n    .dataframe tbody tr th {\n        vertical-align: top;\n    }\n\n    .dataframe thead th {\n        text-align: right;\n    }\n</style>\n<table border=\"1\" class=\"dataframe\">\n  <thead>\n    <tr style=\"text-align: right;\">\n      <th></th>\n      <th>Unnamed: 0</th>\n      <th>Trip Duration</th>\n      <th>Birth Year</th>\n    </tr>\n  </thead>\n  <tbody>\n    <tr>\n      <th>count</th>\n      <td>3.000000e+05</td>\n      <td>300000.000000</td>\n      <td>238981.000000</td>\n    </tr>\n    <tr>\n      <th>mean</th>\n      <td>7.763458e+05</td>\n      <td>936.239290</td>\n      <td>1980.858223</td>\n    </tr>\n    <tr>\n      <th>std</th>\n      <td>4.481464e+05</td>\n      <td>1548.792767</td>\n      <td>11.003329</td>\n    </tr>\n    <tr>\n      <th>min</th>\n      <td>4.000000e+00</td>\n      <td>60.000000</td>\n      <td>1899.000000</td>\n    </tr>\n    <tr>\n      <th>25%</th>\n      <td>3.871368e+05</td>\n      <td>393.000000</td>\n      <td>1975.000000</td>\n    </tr>\n    <tr>\n      <th>50%</th>\n      <td>7.771035e+05</td>\n      <td>670.000000</td>\n      <td>1984.000000</td>\n    </tr>\n    <tr>\n      <th>75%</th>\n      <td>1.164065e+06</td>\n      <td>1125.000000</td>\n      <td>1989.000000</td>\n    </tr>\n    <tr>\n      <th>max</th>\n      <td>1.551500e+06</td>\n      <td>86224.000000</td>\n      <td>2016.000000</td>\n    </tr>\n  </tbody>\n</table>\n</div>"
     },
     "metadata": {},
     "execution_count": 7
    }
   ],
   "source": [
    "data.describe()"
   ]
  },
  {
   "cell_type": "code",
   "execution_count": 126,
   "metadata": {},
   "outputs": [
    {
     "output_type": "execute_result",
     "data": {
      "text/plain": [
       "count                  300000\n",
       "unique                 292758\n",
       "top       2017-05-15 13:13:00\n",
       "freq                        4\n",
       "first     2017-01-01 00:07:57\n",
       "last      2017-06-30 23:59:01\n",
       "Name: Start Time, dtype: object"
      ]
     },
     "metadata": {},
     "execution_count": 126
    }
   ],
   "source": [
    "data['Start Time'] = pd.to_datetime(data['Start Time'])\n",
    "start_time = data['Start Time']\n",
    "start_time.describe()"
   ]
  },
  {
   "cell_type": "code",
   "execution_count": 9,
   "metadata": {},
   "outputs": [
    {
     "output_type": "execute_result",
     "data": {
      "text/plain": [
       "5.0"
      ]
     },
     "metadata": {},
     "execution_count": 9
    }
   ],
   "source": [
    "# get the most frequent Month\n",
    "months = start_time.dt.month\n",
    "months.median()\n"
   ]
  },
  {
   "cell_type": "code",
   "execution_count": 10,
   "metadata": {},
   "outputs": [
    {
     "output_type": "execute_result",
     "data": {
      "text/plain": [
       "3.0"
      ]
     },
     "metadata": {},
     "execution_count": 10
    }
   ],
   "source": [
    "# get the most frequent day of the week\n",
    "# The day of the week with Monday=0, Sunday=6\n",
    "days = start_time.dt.weekday\n",
    "days.median()\n"
   ]
  },
  {
   "cell_type": "code",
   "execution_count": 11,
   "metadata": {},
   "outputs": [
    {
     "output_type": "execute_result",
     "data": {
      "text/plain": [
       "14.0"
      ]
     },
     "metadata": {},
     "execution_count": 11
    }
   ],
   "source": [
    "# get the most common start hour\n",
    "hours = start_time.dt.hour\n",
    "hours.median()"
   ]
  },
  {
   "cell_type": "code",
   "execution_count": 127,
   "metadata": {},
   "outputs": [
    {
     "output_type": "execute_result",
     "data": {
      "text/plain": [
       "        Unnamed: 0          Start Time             End Time  Trip Duration  \\\n",
       "2             9031 2017-01-04 08:27:49  2017-01-04 08:34:45            416   \n",
       "4            45207 2017-01-17 14:53:07  2017-01-17 15:02:01            534   \n",
       "7            65924 2017-01-21 14:28:38  2017-01-21 14:40:41            723   \n",
       "11           71678 2017-01-22 15:15:45  2017-01-22 15:31:02            917   \n",
       "12           19061 2017-01-08 16:03:00  2017-01-08 16:07:37            277   \n",
       "...            ...                 ...                  ...            ...   \n",
       "299958      108699 2017-01-31 11:44:34  2017-01-31 11:52:17            463   \n",
       "299972       44015 2017-01-17 08:42:37  2017-01-17 08:53:20            643   \n",
       "299975       49643 2017-01-18 11:28:36  2017-01-18 11:31:14            158   \n",
       "299993       68299 2017-01-21 17:16:02  2017-01-21 17:55:11           2349   \n",
       "299995       64825 2017-01-21 13:18:00  2017-01-21 13:27:50            590   \n",
       "\n",
       "                         Start Station                   End Station  \\\n",
       "2                   May St & Taylor St           Wood St & Taylor St   \n",
       "4               Clark St & Randolph St  Desplaines St & Jackson Blvd   \n",
       "7           Larrabee St & Kingsbury St    Larrabee St & Armitage Ave   \n",
       "11      Southport Ave & Wellington Ave        Clark St & Schiller St   \n",
       "12               Green St & Madison St      Ada St & Washington Blvd   \n",
       "...                                ...                           ...   \n",
       "299958      Indiana Ave & Roosevelt Rd     Michigan Ave & Madison St   \n",
       "299972     Racine Ave & Wrightwood Ave     Clark St & Wellington Ave   \n",
       "299975           Dayton St & North Ave  Sheffield Ave & Kingsbury St   \n",
       "299993       Lake Shore Dr & Monroe St          McClurg Ct & Erie St   \n",
       "299995         Orleans St & Elm St (*)   Sheffield Ave & Webster Ave   \n",
       "\n",
       "         User Type  Gender  Birth Year  \\\n",
       "2       Subscriber    Male      1981.0   \n",
       "4       Subscriber    Male      1975.0   \n",
       "7         Customer     NaN         NaN   \n",
       "11      Subscriber    Male      1964.0   \n",
       "12      Subscriber    Male      1961.0   \n",
       "...            ...     ...         ...   \n",
       "299958  Subscriber  Female      1966.0   \n",
       "299972  Subscriber  Female      1978.0   \n",
       "299975  Subscriber    Male      1958.0   \n",
       "299993    Customer     NaN         NaN   \n",
       "299995  Subscriber    Male      1965.0   \n",
       "\n",
       "                                                   routes  \n",
       "2           from May St & Taylor Stto Wood St & Taylor St  \n",
       "4       from Clark St & Randolph Stto Desplaines St & ...  \n",
       "7       from Larrabee St & Kingsbury Stto Larrabee St ...  \n",
       "11      from Southport Ave & Wellington Aveto Clark St...  \n",
       "12      from Green St & Madison Stto Ada St & Washingt...  \n",
       "...                                                   ...  \n",
       "299958  from Indiana Ave & Roosevelt Rdto Michigan Ave...  \n",
       "299972  from Racine Ave & Wrightwood Aveto Clark St & ...  \n",
       "299975  from Dayton St & North Aveto Sheffield Ave & K...  \n",
       "299993  from Lake Shore Dr & Monroe Stto McClurg Ct & ...  \n",
       "299995  from Orleans St & Elm St (*)to Sheffield Ave &...  \n",
       "\n",
       "[21809 rows x 10 columns]"
      ],
      "text/html": "<div>\n<style scoped>\n    .dataframe tbody tr th:only-of-type {\n        vertical-align: middle;\n    }\n\n    .dataframe tbody tr th {\n        vertical-align: top;\n    }\n\n    .dataframe thead th {\n        text-align: right;\n    }\n</style>\n<table border=\"1\" class=\"dataframe\">\n  <thead>\n    <tr style=\"text-align: right;\">\n      <th></th>\n      <th>Unnamed: 0</th>\n      <th>Start Time</th>\n      <th>End Time</th>\n      <th>Trip Duration</th>\n      <th>Start Station</th>\n      <th>End Station</th>\n      <th>User Type</th>\n      <th>Gender</th>\n      <th>Birth Year</th>\n      <th>routes</th>\n    </tr>\n  </thead>\n  <tbody>\n    <tr>\n      <th>2</th>\n      <td>9031</td>\n      <td>2017-01-04 08:27:49</td>\n      <td>2017-01-04 08:34:45</td>\n      <td>416</td>\n      <td>May St &amp; Taylor St</td>\n      <td>Wood St &amp; Taylor St</td>\n      <td>Subscriber</td>\n      <td>Male</td>\n      <td>1981.0</td>\n      <td>from May St &amp; Taylor Stto Wood St &amp; Taylor St</td>\n    </tr>\n    <tr>\n      <th>4</th>\n      <td>45207</td>\n      <td>2017-01-17 14:53:07</td>\n      <td>2017-01-17 15:02:01</td>\n      <td>534</td>\n      <td>Clark St &amp; Randolph St</td>\n      <td>Desplaines St &amp; Jackson Blvd</td>\n      <td>Subscriber</td>\n      <td>Male</td>\n      <td>1975.0</td>\n      <td>from Clark St &amp; Randolph Stto Desplaines St &amp; ...</td>\n    </tr>\n    <tr>\n      <th>7</th>\n      <td>65924</td>\n      <td>2017-01-21 14:28:38</td>\n      <td>2017-01-21 14:40:41</td>\n      <td>723</td>\n      <td>Larrabee St &amp; Kingsbury St</td>\n      <td>Larrabee St &amp; Armitage Ave</td>\n      <td>Customer</td>\n      <td>NaN</td>\n      <td>NaN</td>\n      <td>from Larrabee St &amp; Kingsbury Stto Larrabee St ...</td>\n    </tr>\n    <tr>\n      <th>11</th>\n      <td>71678</td>\n      <td>2017-01-22 15:15:45</td>\n      <td>2017-01-22 15:31:02</td>\n      <td>917</td>\n      <td>Southport Ave &amp; Wellington Ave</td>\n      <td>Clark St &amp; Schiller St</td>\n      <td>Subscriber</td>\n      <td>Male</td>\n      <td>1964.0</td>\n      <td>from Southport Ave &amp; Wellington Aveto Clark St...</td>\n    </tr>\n    <tr>\n      <th>12</th>\n      <td>19061</td>\n      <td>2017-01-08 16:03:00</td>\n      <td>2017-01-08 16:07:37</td>\n      <td>277</td>\n      <td>Green St &amp; Madison St</td>\n      <td>Ada St &amp; Washington Blvd</td>\n      <td>Subscriber</td>\n      <td>Male</td>\n      <td>1961.0</td>\n      <td>from Green St &amp; Madison Stto Ada St &amp; Washingt...</td>\n    </tr>\n    <tr>\n      <th>...</th>\n      <td>...</td>\n      <td>...</td>\n      <td>...</td>\n      <td>...</td>\n      <td>...</td>\n      <td>...</td>\n      <td>...</td>\n      <td>...</td>\n      <td>...</td>\n      <td>...</td>\n    </tr>\n    <tr>\n      <th>299958</th>\n      <td>108699</td>\n      <td>2017-01-31 11:44:34</td>\n      <td>2017-01-31 11:52:17</td>\n      <td>463</td>\n      <td>Indiana Ave &amp; Roosevelt Rd</td>\n      <td>Michigan Ave &amp; Madison St</td>\n      <td>Subscriber</td>\n      <td>Female</td>\n      <td>1966.0</td>\n      <td>from Indiana Ave &amp; Roosevelt Rdto Michigan Ave...</td>\n    </tr>\n    <tr>\n      <th>299972</th>\n      <td>44015</td>\n      <td>2017-01-17 08:42:37</td>\n      <td>2017-01-17 08:53:20</td>\n      <td>643</td>\n      <td>Racine Ave &amp; Wrightwood Ave</td>\n      <td>Clark St &amp; Wellington Ave</td>\n      <td>Subscriber</td>\n      <td>Female</td>\n      <td>1978.0</td>\n      <td>from Racine Ave &amp; Wrightwood Aveto Clark St &amp; ...</td>\n    </tr>\n    <tr>\n      <th>299975</th>\n      <td>49643</td>\n      <td>2017-01-18 11:28:36</td>\n      <td>2017-01-18 11:31:14</td>\n      <td>158</td>\n      <td>Dayton St &amp; North Ave</td>\n      <td>Sheffield Ave &amp; Kingsbury St</td>\n      <td>Subscriber</td>\n      <td>Male</td>\n      <td>1958.0</td>\n      <td>from Dayton St &amp; North Aveto Sheffield Ave &amp; K...</td>\n    </tr>\n    <tr>\n      <th>299993</th>\n      <td>68299</td>\n      <td>2017-01-21 17:16:02</td>\n      <td>2017-01-21 17:55:11</td>\n      <td>2349</td>\n      <td>Lake Shore Dr &amp; Monroe St</td>\n      <td>McClurg Ct &amp; Erie St</td>\n      <td>Customer</td>\n      <td>NaN</td>\n      <td>NaN</td>\n      <td>from Lake Shore Dr &amp; Monroe Stto McClurg Ct &amp; ...</td>\n    </tr>\n    <tr>\n      <th>299995</th>\n      <td>64825</td>\n      <td>2017-01-21 13:18:00</td>\n      <td>2017-01-21 13:27:50</td>\n      <td>590</td>\n      <td>Orleans St &amp; Elm St (*)</td>\n      <td>Sheffield Ave &amp; Webster Ave</td>\n      <td>Subscriber</td>\n      <td>Male</td>\n      <td>1965.0</td>\n      <td>from Orleans St &amp; Elm St (*)to Sheffield Ave &amp;...</td>\n    </tr>\n  </tbody>\n</table>\n<p>21809 rows × 10 columns</p>\n</div>"
     },
     "metadata": {},
     "execution_count": 127
    }
   ],
   "source": [
    "#filter data by month\n",
    "data[data['Start Time'].dt.month == 1]"
   ]
  },
  {
   "cell_type": "code",
   "execution_count": 50,
   "metadata": {},
   "outputs": [
    {
     "output_type": "execute_result",
     "data": {
      "text/plain": [
       "'Streeter Dr & Grand Ave'"
      ]
     },
     "metadata": {},
     "execution_count": 50
    }
   ],
   "source": [
    "#most commonly used start station\n",
    "most_start_station = data['Start Station'].value_counts().keys()[0]\n",
    "most_start_station"
   ]
  },
  {
   "cell_type": "code",
   "execution_count": 59,
   "metadata": {},
   "outputs": [
    {
     "output_type": "execute_result",
     "data": {
      "text/plain": [
       "'from Lake Shore Dr & Monroe Stto Streeter Dr & Grand Ave'"
      ]
     },
     "metadata": {},
     "execution_count": 59
    }
   ],
   "source": [
    "# combine start and end trip\n",
    "data['routes']= 'from ' + data['Start Station'] + ' to ' + data['End Station']\n",
    "data['routes'].value_counts().keys()[0]"
   ]
  },
  {
   "cell_type": "code",
   "execution_count": 67,
   "metadata": {},
   "outputs": [
    {
     "output_type": "execute_result",
     "data": {
      "text/plain": [
       "float"
      ]
     },
     "metadata": {},
     "execution_count": 67
    }
   ],
   "source": [
    "# Calculate total travel time\n",
    "data['Trip Duration'].mean()"
   ]
  },
  {
   "cell_type": "code",
   "execution_count": 68,
   "metadata": {},
   "outputs": [
    {
     "output_type": "execute_result",
     "data": {
      "text/plain": [
       "numpy.int64"
      ]
     },
     "metadata": {},
     "execution_count": 68
    }
   ],
   "source": [
    "#Calculate Total travel time\n",
    "data['Trip Duration'].sum()"
   ]
  },
  {
   "cell_type": "code",
   "execution_count": 138,
   "metadata": {},
   "outputs": [
    {
     "output_type": "execute_result",
     "data": {
      "text/plain": [
       "3"
      ]
     },
     "metadata": {},
     "execution_count": 138
    }
   ],
   "source": [
    "# get user types\n",
    "data['User Type'].value_counts().size\n"
   ]
  },
  {
   "cell_type": "code",
   "execution_count": 89,
   "metadata": {},
   "outputs": [
    {
     "output_type": "execute_result",
     "data": {
      "text/plain": [
       "2"
      ]
     },
     "metadata": {},
     "execution_count": 89
    }
   ],
   "source": [
    "#get user Gender\n",
    "data['Gender'].value_counts()"
   ]
  },
  {
   "cell_type": "code",
   "execution_count": 136,
   "metadata": {},
   "outputs": [
    {
     "output_type": "execute_result",
     "data": {
      "text/plain": [
       "1984.0"
      ]
     },
     "metadata": {},
     "execution_count": 136
    }
   ],
   "source": [
    "# Display earliest, most recent, and most common year of birth\n",
    "year_of_birth = data['Birth Year'].dropna().astype(int)\n",
    "year_of_birth.median()"
   ]
  },
  {
   "cell_type": "code",
   "execution_count": null,
   "metadata": {},
   "outputs": [],
   "source": []
  },
  {
   "cell_type": "code",
   "execution_count": null,
   "metadata": {},
   "outputs": [],
   "source": []
  }
 ]
}